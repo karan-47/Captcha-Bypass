{
  "nbformat": 4,
  "nbformat_minor": 0,
  "metadata": {
    "colab": {
      "provenance": []
    },
    "kernelspec": {
      "name": "python3",
      "display_name": "Python 3"
    },
    "language_info": {
      "name": "python"
    }
  },
  "cells": [
    {
      "cell_type": "code",
      "execution_count": null,
      "metadata": {
        "id": "L0IZVc2UAAJS"
      },
      "outputs": [],
      "source": [
        "#importing all libraries\n",
        "import numpy as np\n",
        "import pandas as pd\n",
        "import matplotlib.pyplot as plt\n",
        "import tensorflow as tf\n",
        "import seaborn as sns\n",
        "%matplotlib inline  \n",
        "# style.use('fivethirtyeight')\n",
        "sns.set(style='whitegrid',color_codes=True)\n",
        "\n",
        "from sklearn.model_selection import train_test_split\n",
        "from sklearn.preprocessing import LabelEncoder\n",
        "\n",
        "import os\n",
        "import random\n",
        "from random import shuffle\n",
        "\n",
        "from tqdm import tqdm\n",
        "import cv2\n",
        "\n",
        "from keras.utils import to_categorical\n",
        "from keras.models import Sequential,load_model,model_from_json\n",
        "from keras.layers import Dense\n",
        "from keras.optimizers import RMSprop,Adadelta,Adam,Adamax,SGD\n",
        "from keras import backend as K\n",
        "from keras.layers import Dropout,Flatten,AveragePooling2D,MaxPooling2D,Conv2D,Activation,BatchNormalization\n",
        "from keras.callbacks import ReduceLROnPlateau\n",
        "from keras.preprocessing.image import ImageDataGenerator"
      ]
    },
    {
      "cell_type": "code",
      "source": [
        "#setting path to dataset \n",
        "curr_path = os.getcwd() + '/drive/My Drive/datasets'\n",
        "data_path = curr_path+'/Large'"
      ],
      "metadata": {
        "id": "yw4mQKX8AEDC"
      },
      "execution_count": null,
      "outputs": []
    },
    {
      "cell_type": "code",
      "source": [
        "#mapping of X and Y label matlab img and flower name\n",
        "# imglist = list()\n",
        "\n",
        "\n",
        "# for dr in os.listdir(data_path) :\n",
        "#     if dr not in ['Traffic Light','Palm','Other','Mountain','Motorcycle','Hydrant','Crosswalk','Chimney','Car','Bus','Bridge','Bicycle'] :\n",
        "#         continue\n",
        "#     img_path = os.path.join(data_path,dr)\n",
        "#     print(dr)\n",
        "#     for img in tqdm(os.listdir(img_path) ):\n",
        "#         path = os.path.join(img_path,img)\n",
        "#         pic = cv2.imread(path)\n",
        "#         pic = cv2.resize(pic,(96,96))\n",
        "#         imglist.append([pic,dr])\n",
        "\n",
        "\n",
        "imglist = list()\n",
        "\n",
        "\n",
        "for dr in os.listdir(data_path) :\n",
        "    if dr not in ['Traffic Light','Palm','Hydrant','Crosswalk','Car','Bus','Bicycle'] :\n",
        "        continue\n",
        "    img_path = os.path.join(data_path,dr)\n",
        "    print(dr)\n",
        "    for img in tqdm(os.listdir(img_path) ):\n",
        "        path = os.path.join(img_path,img)\n",
        "        pic = cv2.imread(path)\n",
        "        pic = cv2.resize(pic,(96,96))\n",
        "        \n",
        "        imglist.append([pic,dr])"
      ],
      "metadata": {
        "id": "mYOfEg6lAHzK"
      },
      "execution_count": null,
      "outputs": []
    },
    {
      "cell_type": "code",
      "source": [
        "X,y_temp = map(list,zip(*imglist))"
      ],
      "metadata": {
        "id": "p3bl3teOALA-"
      },
      "execution_count": null,
      "outputs": []
    },
    {
      "cell_type": "code",
      "source": [
        "# just checking if x and y are mapped correctly\n",
        "fig,ax=plt.subplots(5,2)\n",
        "fig.set_size_inches(15,15)\n",
        "for i in range(5):\n",
        "    for j in range (2):\n",
        "        l=random.randint(0,len(y_temp))\n",
        "        ax[i,j].imshow(X[l])\n",
        "        ax[i,j].set_title('Caption: '+y_temp[l])\n",
        "        \n",
        "plt.tight_layout()"
      ],
      "metadata": {
        "id": "FDoq4-XEANpd"
      },
      "execution_count": null,
      "outputs": []
    },
    {
      "cell_type": "code",
      "source": [
        "  #le -> performing one hot encoding( # [1,0,0,0,0], [0,1,0,0,0])\n",
        "  le = LabelEncoder()\n",
        "  Y = le.fit_transform(y_temp)\n",
        "  Y = to_categorical(Y,12)\n",
        "\n",
        "  # normalization of the X-label between 0 and 1\n",
        "  X=np.array(X)\n",
        "  X=X/255"
      ],
      "metadata": {
        "id": "vGSGjPfHAXo_"
      },
      "execution_count": null,
      "outputs": []
    },
    {
      "cell_type": "code",
      "source": [
        "x_train,x_test,y_train,y_test = train_test_split(X,Y,test_size = 0.2,random_state=42)"
      ],
      "metadata": {
        "id": "bZsgbKi_AaHn"
      },
      "execution_count": null,
      "outputs": []
    },
    {
      "cell_type": "code",
      "source": [
        "#making cnn model\n",
        "\n",
        "model = Sequential()\n",
        "model.add(Conv2D(filters=32,kernel_size=(5,5),input_shape=(96,96,3),padding='Same',activation='relu'))\n",
        "model.add(MaxPooling2D(pool_size=(2,2)))\n",
        "\n",
        "model.add(Conv2D(filters=64,kernel_size=(3,3),padding='Same',activation='relu'))\n",
        "model.add(MaxPooling2D(pool_size=(2,2),strides=(2,2)))\n",
        "\n",
        "model.add(Conv2D(filters=96,kernel_size=(2,2),padding='Same',activation='relu'))\n",
        "model.add(MaxPooling2D(pool_size=(2,2),strides=(2,2)))\n",
        "\n",
        "model.add(Flatten())\n",
        "model.add(Dense(512))\n",
        "model.add(Activation('relu'))\n",
        "model.add(Dense(12,activation='softmax'))"
      ],
      "metadata": {
        "id": "xKzLcrsrAm8N"
      },
      "execution_count": null,
      "outputs": []
    },
    {
      "cell_type": "code",
      "source": [
        "# setting batch_size nd epooch for training the model\n",
        "batch_size = 128\n",
        "epooch = 50\n",
        "\n",
        "# red_lr = ReduceLROnPlateau(monitor='val_acc',patience=3,verbose=1,factor=0.1)"
      ],
      "metadata": {
        "id": "J29tcTKTApCk"
      },
      "execution_count": null,
      "outputs": []
    },
    {
      "cell_type": "code",
      "source": [
        "# data augmentation to prevent overfitting\n",
        "datagen = ImageDataGenerator(\n",
        "        featurewise_center=False,  # set input mean to 0 over the dataset\n",
        "        samplewise_center=False,  # set each sample mean to 0\n",
        "        featurewise_std_normalization=False,  # divide inputs by std of the dataset\n",
        "        samplewise_std_normalization=False,  # divide each input by its std\n",
        "        zca_whitening=False,  # apply ZCA whitening\n",
        "        rotation_range=10,  # randomly rotate images in the range (degrees, 0 to 180)\n",
        "        zoom_range = 0.1, # Randomly zoom image \n",
        "        width_shift_range=0.2,  # randomly shift images horizontally (fraction of total width)\n",
        "        height_shift_range=0.2,  # randomly shift images vertically (fraction of total height)\n",
        "        horizontal_flip=True,  # randomly flip images\n",
        "        vertical_flip=False)  # randomly flip images\n",
        "\n",
        "\n",
        "datagen.fit(x_train)"
      ],
      "metadata": {
        "id": "m5qhtXLPAq-y"
      },
      "execution_count": null,
      "outputs": []
    },
    {
      "cell_type": "code",
      "source": [
        "model.compile(optimizer=Adam(lr=0.001),loss='categorical_crossentropy',metrics=['accuracy'])"
      ],
      "metadata": {
        "id": "YCho2f0uAstZ"
      },
      "execution_count": null,
      "outputs": []
    },
    {
      "cell_type": "code",
      "source": [
        "model.summary()"
      ],
      "metadata": {
        "id": "g0PlmFTpAu25"
      },
      "execution_count": null,
      "outputs": []
    },
    {
      "cell_type": "code",
      "source": [
        "# training of the model\n",
        "import time\n",
        "start = time.perf_counter()\n",
        "History = model.fit_generator(datagen.flow(x_train,y_train, batch_size=batch_size),\n",
        "                              epochs = epooch, validation_data = (x_test,y_test),\n",
        "                              verbose = 1, steps_per_epoch=x_train.shape[0] // batch_size)\n",
        "end = time.perf_counter()\n",
        "# hist = model.fit(x=x_train,y=y_train,batch_size=batch_size,epochs=epooch,callbacks=red_lr,validation_data=(x_test,y_test),steps_per_epoch=x_train.shape[0] // batch_size)"
      ],
      "metadata": {
        "id": "e9wWlCA4AxBi"
      },
      "execution_count": null,
      "outputs": []
    },
    {
      "cell_type": "code",
      "source": [
        "print(\"Time taken: \",end-start)"
      ],
      "metadata": {
        "id": "71SBtAzbA3lz"
      },
      "execution_count": null,
      "outputs": []
    },
    {
      "cell_type": "code",
      "source": [
        "# saving the model\n",
        "model.save_weights(os.path.join(curr_path ,'cnn_base.h5'))\n",
        "\n",
        "with open(os.path.join(curr_path,\"cnn_base.json\"), \"w\") as json_file:\n",
        "    json_file.write(model.to_json())"
      ],
      "metadata": {
        "id": "-OYO-IS9A4FZ"
      },
      "execution_count": null,
      "outputs": []
    },
    {
      "cell_type": "code",
      "source": [
        "#accuracy graph of our model\n",
        "plt.plot(History.history['accuracy'])\n",
        "plt.plot(History.history['val_accuracy'])\n",
        "plt.title('Model Accuracy')\n",
        "plt.ylabel('Accuracy')\n",
        "plt.xlabel('Epochs')\n",
        "plt.legend(['train', 'test'])\n",
        "plt.show()"
      ],
      "metadata": {
        "id": "FHECAuICA6Vs"
      },
      "execution_count": null,
      "outputs": []
    },
    {
      "cell_type": "code",
      "source": [
        "#import our model from json\n",
        "with open(os.path.join(curr_path,'cnn_base.json'), 'r') as f:\n",
        "    loaded_model_json = f.read()\n",
        "loaded_model = model_from_json(loaded_model_json)\n",
        "loaded_model.load_weights(os.path.join(curr_path,\"cnn_base.h5\"))"
      ],
      "metadata": {
        "id": "lnJQ-FO_A8VR"
      },
      "execution_count": null,
      "outputs": []
    },
    {
      "cell_type": "code",
      "source": [
        "# some debugging\n",
        "pred = loaded_model.predict(x_test)\n",
        "pred_final = np.argmax(pred,axis=1)\n",
        "pred_final=pred_final.reshape(1917,1)\n",
        "pos = 0\n",
        "for i in range(1917):\n",
        "  if y_test[i][pred_final[i]] == 1:\n",
        "    pos += 1\n",
        "accuracy = pos/len(y_test)\n",
        "accuracy*100"
      ],
      "metadata": {
        "id": "vCewmvkrA-fR"
      },
      "execution_count": null,
      "outputs": []
    },
    {
      "cell_type": "code",
      "source": [
        "# print(le.inverse_transform(y_test[0]),pred_final[0])\n",
        "d = {0:'Bicycle',1:'Bus',2:'Car',3:'Crosswalk',4:'Hydrant',5:'Palm',6:'Traffic Light'}\n",
        "print(str(le.inverse_transform([pred_final[200]])))\n",
        "print(str([pred_final[200]]))\n",
        "print(np.argmax([y_test[200]]))\n",
        "print(d[np.argmax([y_test[200]])])\n",
        "plt.imshow(x_test[200])"
      ],
      "metadata": {
        "id": "SuWUhdJRBAij"
      },
      "execution_count": null,
      "outputs": []
    },
    {
      "cell_type": "code",
      "source": [
        "# checking our result. Comparing some of the predicted and test values\n",
        "count=0\n",
        "fig,ax=plt.subplots(8,2)\n",
        "fig.set_size_inches(15,15)\n",
        "for i in range (8):\n",
        "    for j in range (2):\n",
        "        ax[i,j].imshow(x_test[count])\n",
        "        ax[i,j].set_title(\"Prediction : \"+str(le.inverse_transform([pred_final[count]]))+\"\\n\"+\"Actual : \"+d[np.argmax([y_test[count]])])\n",
        "        plt.tight_layout()\n",
        "        count+=2"
      ],
      "metadata": {
        "id": "vCsQjSKcBCPJ"
      },
      "execution_count": null,
      "outputs": []
    },
    {
      "cell_type": "code",
      "source": [],
      "metadata": {
        "id": "QX3maG8EBEWz"
      },
      "execution_count": null,
      "outputs": []
    }
  ]
}